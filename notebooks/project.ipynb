{
 "cells": [
  {
   "cell_type": "markdown",
   "id": "519dc186",
   "metadata": {},
   "source": [
    "#### Michele Meazzini - 635889\n",
    "# Songs Genre Classifier\n",
    "This project aims to speed up the process of classifying songs by genre using different types of classification models. In this code, the input audio files are split into 3 seconds tracks, which are then analyzed and classified by their genre choosing from 10 genres: blues, classical, country, disco, hiphop, jazz, metal, pop, reggae and rock. Different tecniques of data visualization, preprocessing and classification are involved to achieve the best performances possible in terms of accuracy, while trying to reduce the amount of necessary data to make the dataset lighter and speed up the classification process."
   ]
  },
  {
   "cell_type": "markdown",
   "id": "6449f8b5",
   "metadata": {},
   "source": [
    "## Table of Contents\n",
    "1. [Imports](#Imports)\n",
    "2. [Feature Extraction](#Feature-Extraction)\n",
    "3. [Data Exploration](#Data-Exploration)\n",
    "4. [Data Preprocessing](#Data-Preprocessing)\n",
    "5. [Classification](#Classification)\n"
   ]
  },
  {
   "cell_type": "markdown",
   "id": "57e9c329",
   "metadata": {},
   "source": [
    "# Imports"
   ]
  },
  {
   "cell_type": "markdown",
   "id": "c913221e",
   "metadata": {},
   "source": [
    "## Feature Extraction"
   ]
  },
  {
   "cell_type": "markdown",
   "id": "1b545015",
   "metadata": {},
   "source": [
    "## Data Exploration"
   ]
  },
  {
   "cell_type": "markdown",
   "id": "969d77be",
   "metadata": {},
   "source": [
    "### Boxplots (tempo)"
   ]
  },
  {
   "cell_type": "markdown",
   "id": "38a0ee48",
   "metadata": {},
   "source": [
    "## Data Preprocessing"
   ]
  },
  {
   "cell_type": "markdown",
   "id": "549f0b9e",
   "metadata": {},
   "source": [
    "### Feature Selection based on Correlation"
   ]
  },
  {
   "cell_type": "markdown",
   "id": "4e13be0d",
   "metadata": {},
   "source": [
    "### Feature Normalization "
   ]
  },
  {
   "cell_type": "markdown",
   "id": "5985375e",
   "metadata": {},
   "source": [
    "## Classification"
   ]
  },
  {
   "cell_type": "markdown",
   "id": "db2207f0",
   "metadata": {},
   "source": [
    "### Confusion Matrix"
   ]
  },
  {
   "cell_type": "markdown",
   "id": "cbcd8be9",
   "metadata": {},
   "source": [
    "### Recursive Feature Elimination"
   ]
  },
  {
   "cell_type": "markdown",
   "id": "ce9f1f28",
   "metadata": {},
   "source": [
    "## Model Selection"
   ]
  }
 ],
 "metadata": {
  "language_info": {
   "name": "python"
  }
 },
 "nbformat": 4,
 "nbformat_minor": 5
}
